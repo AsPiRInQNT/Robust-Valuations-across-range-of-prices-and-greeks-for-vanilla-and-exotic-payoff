{
 "cells": [
  {
   "cell_type": "code",
   "execution_count": 2,
   "metadata": {},
   "outputs": [
    {
     "data": {
      "image/png": "[encoded data removed]",
      "text/plain": [
       "<Figure size 432x288 with 3 Axes>"
      ]
     },
     "metadata": {
      "needs_background": "light"
     },
     "output_type": "display_data"
    }
   ],
   "source": [
    "import numpy as np\n",
    "import matplotlib.pyplot as plt\n",
    "import scipy.integrate as integrate\n",
    "\n",
    "# Prcing by the Integration formula using numerical integration\n",
    "def BS_Price_Int(S0, r, sigma, T, payoff):\n",
    "    def integrand(x):\n",
    "        y = 1 / np.sqrt(2 * np.pi) * payoff(S0 * np.exp((r - 0.5 * sigma ** 2) * T + sigma * np.sqrt(T) * x)) * np.exp(\n",
    "            -r * T) * np.exp(-x ** 2 / 2)\n",
    "        return y\n",
    "\n",
    "    V0 = integrate.quad(integrand, -np.inf, np.inf)[0]\n",
    "    return V0\n",
    "\n",
    "\n",
    "def BS_Greeks_num(r, sigma, S0, T, payoff, eps):\n",
    "    V0 = BS_Price_Int(S0, r, sigma, T, payoff)\n",
    "    V_Delta = BS_Price_Int((1 + eps) * S0, r, sigma, T, payoff)\n",
    "    V_vega = BS_Price_Int(S0, r, (1 + eps) * sigma, T, payoff)\n",
    "    V_gamma1 = V_Delta\n",
    "    V_gamma2 = BS_Price_Int((1 - eps) * S0, r, sigma, T, payoff)\n",
    "\n",
    "\n",
    "    Delta = (V_Delta - V0) / (eps * S0)\n",
    "    vega = (V_vega - V0) / (eps * sigma)\n",
    "    gamma = (V_gamma1 - 2 * V0 + V_gamma2) / ((eps * S0) ** 2)\n",
    "    return [V0, Delta, vega, gamma]\n",
    "\n",
    "\n",
    "# test parameters\n",
    "r = 0.03\n",
    "sigma = 0.2\n",
    "T =1\n",
    "eps = 0.01\n",
    "K = 100\n",
    "S0 = range(60,141)\n",
    "\n",
    "def payoff(x):\n",
    "    y = np.maximum(K - x, 0)\n",
    "    return y\n",
    "\n",
    "\n",
    "Delta = np.zeros(141)\n",
    "vega = np.zeros(141)\n",
    "gamma = np.zeros(141)\n",
    "\n",
    "\n",
    "for i in S0:\n",
    "    Delta[i] = BS_Greeks_num(r, sigma, S0=i, T=T, payoff=payoff, eps=eps)[1]\n",
    "    vega[i] = BS_Greeks_num(r, sigma, S0=i, T=T, payoff=payoff, eps=eps)[2]\n",
    "    gamma[i] = BS_Greeks_num(r, sigma, S0=i, T=T, payoff=payoff, eps=eps)[3]\n",
    "\n",
    "x = np.arange(1, 141)\n",
    "\n",
    "# visualization of first 3 greeks given a constant strike price of K = 100:\n",
    "fig = plt.figure()\n",
    "\n",
    "plt.subplot(2, 2, 1)\n",
    "plt.plot(x[60-1:141], Delta[60:141], linewidth = 0.5)\n",
    "plt.xlabel(\"Initial stock price\")\n",
    "plt.ylabel(\"Delta\")\n",
    "\n",
    "plt.subplot(2, 2, 2)\n",
    "plt.plot(x[60-1:141], vega[60:141], linewidth = 0.5)\n",
    "plt.xlabel(\"Initial stock srice\")\n",
    "plt.ylabel(\"vega\")\n",
    "\n",
    "plt.subplot(2, 2, 3)\n",
    "plt.plot(x[60-1:141], gamma[60:141], linewidth = 0.5)\n",
    "plt.xlabel(\"Initial stock price\")\n",
    "plt.ylabel(\"gamma\")\n",
    "\n",
    "plt.show()\n"
   ]
  },
  {
   "cell_type": "code",
   "execution_count": null,
   "metadata": {},
   "outputs": [],
   "source": []
  },
  {
   "cell_type": "code",
   "execution_count": null,
   "metadata": {},
   "outputs": [],
   "source": []
  }
 ],
 "metadata": {
  "kernelspec": {
   "display_name": "Python 3",
   "language": "python",
   "name": "python3"
  },
  "language_info": {
   "codemirror_mode": {
    "name": "ipython",
    "version": 3
   },
   "file_extension": ".py",
   "mimetype": "text/x-python",
   "name": "python",
   "nbconvert_exporter": "python",
   "pygments_lexer": "ipython3",
   "version": "3.7.7"
  }
 },
 "nbformat": 4,
 "nbformat_minor": 4
}
